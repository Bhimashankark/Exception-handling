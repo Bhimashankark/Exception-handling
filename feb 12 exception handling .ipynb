{
 "cells": [
  {
   "cell_type": "markdown",
   "id": "39153be2-c35e-4243-9934-cb0779686627",
   "metadata": {},
   "source": [
    "Q1. What is an Exception in python? Write the difference between Exceptions and syntax errors"
   ]
  },
  {
   "cell_type": "markdown",
   "id": "abb65bee-8b0b-4e29-bab0-9ccca571c7aa",
   "metadata": {},
   "source": [
    "answer : In Python, an Exception is a runtime error that occurs when the code encounters an unexpected condition or situation that it cannot handle. It is a way of notifying the programmer that something has gone wrong during the execution of the program.\n",
    "\n",
    "Exceptions are objects that contain information about the error that occurred, including a description of the problem and the location in the code where the error occurred. When an exception occurs, Python stops executing the current code block and looks for an exception handler that can handle the error.\n",
    "\n",
    "On the other hand, a syntax error is a type of error that occurs when the Python interpreter encounters invalid code. Syntax errors are caused by mistakes such as misspelled keywords, missing colons or parentheses, or incorrect indentation. Unlike exceptions, syntax errors are detected by the Python interpreter before the program is run, and they prevent the code from executing at all.\n",
    "\n",
    "Here are some key differences between Exceptions and syntax errors in Python:\n",
    "\n",
    "Occurrence: Syntax errors occur during the compilation of the code, whereas Exceptions occur during the execution of the code.\n",
    "\n",
    "Cause: Syntax errors are caused by invalid code, while Exceptions are caused by unexpected situations that the code encounters at runtime.\n",
    "\n",
    "Handling: Syntax errors cannot be handled by the program, and they must be fixed before the code can be executed. Exceptions, on the other hand, can be handled by the program using exception handling techniques such as try-except blocks.\n",
    "\n",
    "Impact: Syntax errors prevent the program from executing, while Exceptions do not necessarily stop the program from running, but they can cause it to behave unexpectedly or crash if they are not handled properly."
   ]
  },
  {
   "cell_type": "markdown",
   "id": "18f5de61-dde9-4673-8211-1296f190082f",
   "metadata": {},
   "source": [
    "Q2. What happens when an exception is not handled? Explain with an example."
   ]
  },
  {
   "cell_type": "markdown",
   "id": "7f146218-7ec0-4d57-b572-893746e8bad8",
   "metadata": {},
   "source": [
    "answer : When an exception is not handled, it causes the program to terminate abruptly and an error message is displayed to the user. This is known as an unhandled exception. The error message provides information about the type of exception, the line of code where the exception occurred, and a traceback of the function calls that led to the exception."
   ]
  },
  {
   "cell_type": "code",
   "execution_count": null,
   "id": "c6a698f7-150c-4e1b-a48d-fd63950b6f1e",
   "metadata": {},
   "outputs": [],
   "source": [
    "#Here's an example to illustrate what happens when an exception is not handled:\n"
   ]
  },
  {
   "cell_type": "code",
   "execution_count": 1,
   "id": "e300b1a8-a9db-4719-b0a3-67ebbf8efecf",
   "metadata": {},
   "outputs": [
    {
     "ename": "ZeroDivisionError",
     "evalue": "division by zero",
     "output_type": "error",
     "traceback": [
      "\u001b[0;31m---------------------------------------------------------------------------\u001b[0m",
      "\u001b[0;31mZeroDivisionError\u001b[0m                         Traceback (most recent call last)",
      "Cell \u001b[0;32mIn[1], line 4\u001b[0m\n\u001b[1;32m      1\u001b[0m \u001b[38;5;28;01mdef\u001b[39;00m \u001b[38;5;21mdivide\u001b[39m(a, b):\n\u001b[1;32m      2\u001b[0m     \u001b[38;5;28;01mreturn\u001b[39;00m a\u001b[38;5;241m/\u001b[39mb\n\u001b[0;32m----> 4\u001b[0m \u001b[38;5;28mprint\u001b[39m(\u001b[43mdivide\u001b[49m\u001b[43m(\u001b[49m\u001b[38;5;241;43m10\u001b[39;49m\u001b[43m,\u001b[49m\u001b[43m \u001b[49m\u001b[38;5;241;43m0\u001b[39;49m\u001b[43m)\u001b[49m)\n",
      "Cell \u001b[0;32mIn[1], line 2\u001b[0m, in \u001b[0;36mdivide\u001b[0;34m(a, b)\u001b[0m\n\u001b[1;32m      1\u001b[0m \u001b[38;5;28;01mdef\u001b[39;00m \u001b[38;5;21mdivide\u001b[39m(a, b):\n\u001b[0;32m----> 2\u001b[0m     \u001b[38;5;28;01mreturn\u001b[39;00m \u001b[43ma\u001b[49m\u001b[38;5;241;43m/\u001b[39;49m\u001b[43mb\u001b[49m\n",
      "\u001b[0;31mZeroDivisionError\u001b[0m: division by zero"
     ]
    }
   ],
   "source": [
    "def divide(a, b):\n",
    "    return a/b\n",
    "\n",
    "print(divide(10, 0))\n"
   ]
  },
  {
   "cell_type": "markdown",
   "id": "14f5b7f2-d06e-4743-89c4-fd9fc6083bb6",
   "metadata": {},
   "source": [
    "As we can see, the error message indicates that a ZeroDivisionError occurred on line 4 of the code in the divide function. If this exception had been handled properly, the program could have continued running without crashing.\n",
    "\n",
    "In general, it's important to handle exceptions in your code to ensure that the program can recover gracefully from unexpected situations and provide useful error messages to the user."
   ]
  },
  {
   "cell_type": "markdown",
   "id": "03581c1b-32ae-4152-917d-61a372386141",
   "metadata": {},
   "source": [
    "Q3. Which Python statements are used to catch and handle exceptions? Explain with an example"
   ]
  },
  {
   "cell_type": "markdown",
   "id": "e5974365-1aa6-42e1-8e04-37971d84fe2f",
   "metadata": {},
   "source": [
    "answer : In Python, the try and except statements are used together to catch and handle exceptions.\n",
    "\n",
    "The try block contains the code that may raise an exception, and the except block contains the code that handles the exception. If an exception is raised in the try block, Python jumps to the except block and executes the code there. If no exception is raised, the except block is skipped.\n",
    "\n"
   ]
  },
  {
   "cell_type": "code",
   "execution_count": null,
   "id": "e8856419-b3cc-4b69-871b-0c3cd0672d3e",
   "metadata": {},
   "outputs": [],
   "source": [
    "# Here's an example to illustrate the use of try and except statements:"
   ]
  },
  {
   "cell_type": "code",
   "execution_count": 6,
   "id": "5cf02c74-46a8-448b-ab48-e7a6131f6195",
   "metadata": {},
   "outputs": [
    {
     "name": "stdout",
     "output_type": "stream",
     "text": [
      "division by zero\n",
      "None\n",
      "None\n"
     ]
    }
   ],
   "source": [
    "def divide(a, b):\n",
    "    try:\n",
    "        result = a/b\n",
    "    except ZeroDivisionError as e:\n",
    "        print(e)\n",
    "\n",
    "print(divide(10, 0))  \n",
    "print(divide(10, 5))  "
   ]
  },
  {
   "cell_type": "markdown",
   "id": "9c06c20c-ad3d-4b42-b920-af74a1c10f6d",
   "metadata": {},
   "source": [
    "Q4. Explain with an example:\n",
    "1)try and else\n",
    "2)finally\n",
    "3)raise"
   ]
  },
  {
   "cell_type": "markdown",
   "id": "a9fb310e-5943-4f82-8cc0-a8cd5db77b1c",
   "metadata": {},
   "source": [
    "answer : \n",
    "1)try and else:\n",
    "The else statement can be used with try and except statements to specify a block of code that should be executed if no exception is raised in the try block. The else block is executed after the try block and before any finally block."
   ]
  },
  {
   "cell_type": "code",
   "execution_count": 8,
   "id": "18337532-d47f-4199-8854-88f37a393577",
   "metadata": {},
   "outputs": [
    {
     "name": "stdin",
     "output_type": "stream",
     "text": [
      "Enter a number:  10\n",
      "Enter another number:  0\n"
     ]
    },
    {
     "name": "stdout",
     "output_type": "stream",
     "text": [
      "Error: division by zero\n"
     ]
    }
   ],
   "source": [
    "# Here's an example:\n",
    "try:\n",
    "    x = int(input(\"Enter a number: \"))\n",
    "    y = int(input(\"Enter another number: \"))\n",
    "    result = x / y\n",
    "except ZeroDivisionError:\n",
    "    print(\"Error: division by zero\")\n",
    "else:\n",
    "    print(\"Result is:\", result)\n",
    "\n",
    "\n"
   ]
  },
  {
   "cell_type": "code",
   "execution_count": 10,
   "id": "6318d765-13c4-47c6-8e7d-724391385ba6",
   "metadata": {},
   "outputs": [
    {
     "name": "stdin",
     "output_type": "stream",
     "text": [
      "Enter a number:  50\n",
      "Enter another number:  5\n"
     ]
    },
    {
     "name": "stdout",
     "output_type": "stream",
     "text": [
      "Result is: 10.0\n"
     ]
    }
   ],
   "source": [
    "# Here's an example:\n",
    "try:\n",
    "    x = int(input(\"Enter a number: \"))\n",
    "    y = int(input(\"Enter another number: \"))\n",
    "    result = x / y\n",
    "except ZeroDivisionError:\n",
    "    print(\"Error: division by zero\")\n",
    "else:\n",
    "    print(\"Result is:\", result)\n"
   ]
  },
  {
   "cell_type": "markdown",
   "id": "c7749018-bc33-43b6-bb8a-173797d512eb",
   "metadata": {},
   "source": [
    "2)finally\n",
    "The finally statement is used with try and except statements to specify a block of code that should be executed regardless of whether an exception is raised or not. This block of code is guaranteed to be executed before the try statement completes."
   ]
  },
  {
   "cell_type": "code",
   "execution_count": 17,
   "id": "ff3ac4e2-23ac-47a3-8816-c8591fcc7576",
   "metadata": {},
   "outputs": [
    {
     "name": "stdout",
     "output_type": "stream",
     "text": [
      "Error: file not found\n"
     ]
    },
    {
     "ename": "NameError",
     "evalue": "name 'file' is not defined",
     "output_type": "error",
     "traceback": [
      "\u001b[0;31m---------------------------------------------------------------------------\u001b[0m",
      "\u001b[0;31mNameError\u001b[0m                                 Traceback (most recent call last)",
      "Cell \u001b[0;32mIn[17], line 10\u001b[0m\n\u001b[1;32m      8\u001b[0m     \u001b[38;5;28mprint\u001b[39m(\u001b[38;5;124m\"\u001b[39m\u001b[38;5;124mError: file not found\u001b[39m\u001b[38;5;124m\"\u001b[39m)\n\u001b[1;32m      9\u001b[0m \u001b[38;5;28;01mfinally\u001b[39;00m:\n\u001b[0;32m---> 10\u001b[0m     \u001b[43mfile\u001b[49m\u001b[38;5;241m.\u001b[39mclose()\n",
      "\u001b[0;31mNameError\u001b[0m: name 'file' is not defined"
     ]
    }
   ],
   "source": [
    "# Here's an example:\n",
    "    \n",
    "    \n",
    "try:\n",
    "    file = open(\"file.txt\", \"r\")\n",
    "    print(f.read())\n",
    "except:\n",
    "    print(\"Error: file not found\")\n",
    "finally:\n",
    "    file.close()\n"
   ]
  },
  {
   "cell_type": "markdown",
   "id": "80e55808-bbec-4c4b-9025-e5d1fea80676",
   "metadata": {},
   "source": [
    "In this example, the try block tries to open a file and read its contents. If an exception is raised, the code in the except block is executed, which prints an error message. Regardless of whether an exception is raised or not, the code in the finally block is executed, which closes the file."
   ]
  },
  {
   "cell_type": "markdown",
   "id": "dbc129d6-525d-49a0-8c80-9115f3b7ee63",
   "metadata": {},
   "source": [
    "3)raise:\n",
    "The raise statement is used to explicitly raise an exception in Python. This can be useful when you want to handle an error in a specific way or when you want to create a custom exception.\n"
   ]
  },
  {
   "cell_type": "code",
   "execution_count": 18,
   "id": "5b5f2e1b-1af7-4f16-ba29-72da44e0ed8d",
   "metadata": {},
   "outputs": [],
   "source": [
    "# Here's an example:\n",
    "def senior_citizen(age):\n",
    "    if age<60:\n",
    "        raise ValueError(\"INVALID AGE\")\n",
    "    print(\"you are a senior citizen\")    \n",
    "    "
   ]
  },
  {
   "cell_type": "code",
   "execution_count": 19,
   "id": "57d92bfb-7a04-4fce-9d47-98fa3c130332",
   "metadata": {},
   "outputs": [
    {
     "name": "stdout",
     "output_type": "stream",
     "text": [
      "you are a senior citizen\n",
      "None\n"
     ]
    }
   ],
   "source": [
    "print( senior_citizen(78))"
   ]
  },
  {
   "cell_type": "code",
   "execution_count": 20,
   "id": "1912d531-4c8b-4d13-b361-5d703fe295f7",
   "metadata": {},
   "outputs": [
    {
     "ename": "ValueError",
     "evalue": "INVALID AGE",
     "output_type": "error",
     "traceback": [
      "\u001b[0;31m---------------------------------------------------------------------------\u001b[0m",
      "\u001b[0;31mValueError\u001b[0m                                Traceback (most recent call last)",
      "Cell \u001b[0;32mIn[20], line 1\u001b[0m\n\u001b[0;32m----> 1\u001b[0m \u001b[38;5;28mprint\u001b[39m( \u001b[43msenior_citizen\u001b[49m\u001b[43m(\u001b[49m\u001b[38;5;241;43m15\u001b[39;49m\u001b[43m)\u001b[49m)\n",
      "Cell \u001b[0;32mIn[18], line 4\u001b[0m, in \u001b[0;36msenior_citizen\u001b[0;34m(age)\u001b[0m\n\u001b[1;32m      2\u001b[0m \u001b[38;5;28;01mdef\u001b[39;00m \u001b[38;5;21msenior_citizen\u001b[39m(age):\n\u001b[1;32m      3\u001b[0m     \u001b[38;5;28;01mif\u001b[39;00m age\u001b[38;5;241m<\u001b[39m\u001b[38;5;241m60\u001b[39m:\n\u001b[0;32m----> 4\u001b[0m         \u001b[38;5;28;01mraise\u001b[39;00m \u001b[38;5;167;01mValueError\u001b[39;00m(\u001b[38;5;124m\"\u001b[39m\u001b[38;5;124mINVALID AGE\u001b[39m\u001b[38;5;124m\"\u001b[39m)\n\u001b[1;32m      5\u001b[0m     \u001b[38;5;28mprint\u001b[39m(\u001b[38;5;124m\"\u001b[39m\u001b[38;5;124myou are a senior citizen\u001b[39m\u001b[38;5;124m\"\u001b[39m)\n",
      "\u001b[0;31mValueError\u001b[0m: INVALID AGE"
     ]
    }
   ],
   "source": [
    "print( senior_citizen(15))"
   ]
  },
  {
   "cell_type": "markdown",
   "id": "a7b40f76-024d-4da2-8bc6-ea3108ca289c",
   "metadata": {},
   "source": [
    "Q5. What are Custom Exceptions in python? Why do we need Custom Exections? Explain with an example."
   ]
  },
  {
   "cell_type": "markdown",
   "id": "570c43af-77d7-4073-a7ef-89d635071489",
   "metadata": {},
   "source": [
    "Custom Exceptions, also known as User-defined Exceptions, are exceptions that are defined by the programmer to handle specific errors in a program. Custom exceptions can be raised using the raise statement and can be caught using try and except statements just like any other exception."
   ]
  },
  {
   "cell_type": "code",
   "execution_count": 6,
   "id": "da3a7db8-c2d1-4ebf-9ac1-f9cc80d87ae9",
   "metadata": {},
   "outputs": [],
   "source": [
    "class votingage(Exception):\n",
    "    def __init__(self,num):\n",
    "        self.num=num"
   ]
  },
  {
   "cell_type": "code",
   "execution_count": 7,
   "id": "b1326f10-4e01-4d61-abe6-5acf52a30c3d",
   "metadata": {},
   "outputs": [],
   "source": [
    "def voting_age(age):\n",
    "    if age<=18:\n",
    "        raise votingage(\"age should be greater than 18 to vote\")\n",
    "    else:\n",
    "        print(\"it is valid voting age\")"
   ]
  },
  {
   "cell_type": "code",
   "execution_count": 10,
   "id": "7a6821ca-6d81-424c-a360-5b38ca290b1b",
   "metadata": {},
   "outputs": [
    {
     "name": "stdin",
     "output_type": "stream",
     "text": [
      "enter the age 13\n"
     ]
    },
    {
     "name": "stdout",
     "output_type": "stream",
     "text": [
      "age should be greater than 18 to vote\n"
     ]
    }
   ],
   "source": [
    "try :\n",
    "    age = int(input(\"enter the age\"))\n",
    "    voting_age(age)\n",
    "except votingage as e:\n",
    "    print(e)\n",
    "    "
   ]
  },
  {
   "cell_type": "markdown",
   "id": "8db3cea6-699b-4714-aefb-0824515de1e7",
   "metadata": {},
   "source": [
    "Q6. Create custom exception class. Use this class to handle an exception."
   ]
  },
  {
   "cell_type": "code",
   "execution_count": 11,
   "id": "159e9c11-6926-4aee-a73b-78439346501c",
   "metadata": {},
   "outputs": [
    {
     "name": "stdout",
     "output_type": "stream",
     "text": [
      "This is a custom exception\n"
     ]
    }
   ],
   "source": [
    "class MyCustomException(Exception):\n",
    "    def __init__(self, message):\n",
    "        self.message = message\n",
    "        super().__init__(self.message)\n",
    "\n",
    "try:\n",
    "    raise MyCustomException(\"This is a custom exception\")\n",
    "except MyCustomException as e:\n",
    "    print(e.message)\n"
   ]
  },
  {
   "cell_type": "markdown",
   "id": "95129206-c1b7-40a3-8863-e07fa2a238cf",
   "metadata": {},
   "source": [
    "In this example, we define a custom exception class called MyCustomException that inherits from the base Exception class. The constructor of this class takes a message as an argument and sets it as an instance variable message. We call the constructor of the parent class Exception with the message argument using super().__init__(self.message).\n",
    "\n",
    "We then raise an instance of the MyCustomException class with the error message \"This is a custom exception\" using the raise statement. Finally, we catch the MyCustomException exception using the except statement and print the error message to the console using e.message.\n",
    "\n",
    "This example demonstrates how to create a custom exception class and use it to handle an exception in Python. By defining custom exception classes, we can handle specific errors in a program and provide more meaningful error messages to the user."
   ]
  }
 ],
 "metadata": {
  "kernelspec": {
   "display_name": "Python 3 (ipykernel)",
   "language": "python",
   "name": "python3"
  },
  "language_info": {
   "codemirror_mode": {
    "name": "ipython",
    "version": 3
   },
   "file_extension": ".py",
   "mimetype": "text/x-python",
   "name": "python",
   "nbconvert_exporter": "python",
   "pygments_lexer": "ipython3",
   "version": "3.10.8"
  }
 },
 "nbformat": 4,
 "nbformat_minor": 5
}
